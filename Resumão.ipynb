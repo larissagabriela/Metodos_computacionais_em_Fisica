{
 "cells": [
  {
   "cell_type": "markdown",
   "metadata": {},
   "source": [
    "# Aula 1: Algoritmos e Python 2 (tipos, operações, variáveis e math)"
   ]
  },
  {
   "cell_type": "markdown",
   "metadata": {},
   "source": [
    "**BIBLIOTECAS PYTHON ESSENCIAIS**\n",
    "\n",
    "Numpy: é usada principalmente para realizar cálculos em Arrays Multidimensionais. O NumPy fornece um grande conjunto de funções e operações de biblioteca que ajudam facilmente cálculos numéricos.\n",
    "\n",
    "Math: Este módulo fornece acesso às funções matemáticas definidas pelo padrão C. Essas funções não podem ser usadas com números complexos; use as funções de mesmo nome do cmathmódulo se precisar de suporte para números complexos.\n",
    "\n",
    "Matplotlib.pyplot: é a biblioteca Python mais popular para fazer plotagens e gerar outras visualizações de dados bidimensionais."
   ]
  },
  {
   "cell_type": "code",
   "execution_count": 4,
   "metadata": {},
   "outputs": [],
   "source": [
    "import numpy as np\n",
    "from math import *\n",
    "from cmath import *\n",
    "import matplotlib.pyplot as plt"
   ]
  },
  {
   "cell_type": "markdown",
   "metadata": {},
   "source": [
    "**ALGORITMOS**\n",
    "\n",
    "O conceito de algoritmo é central para a computação\n",
    "    o computador segue ordens e processa operações lógicas\n",
    "    necessita de instruções claras e precisas\n",
    "\n",
    "Não exige nenhum tipo de linguagem de programação\n",
    "\n",
    "Há, em geral, diversos algoritmos para resolver o mesmo problema\n",
    "\n",
    "https://edisciplinas.usp.br/pluginfile.php/2984350/mod_resource/content/1/aula1_algoritmo%20e%20pseudocodigo.pdf"
   ]
  },
  {
   "cell_type": "markdown",
   "metadata": {},
   "source": [
    "**PYTHON 2 e PYTHON 3**\n",
    "\n",
    "- Principais diferenças:\n",
    "\n",
    "Operações com números inteiros\n",
    "\n",
    "Função print\n",
    "\n",
    "Função input\n",
    "\n",
    "interators"
   ]
  },
  {
   "cell_type": "markdown",
   "metadata": {},
   "source": [
    "- Operadores\n",
    "\n",
    "+: Soma\n",
    "\n",
    "*: Multiplicação\n",
    "\n",
    "/: divisão\n",
    "\n",
    "    5.0/2 = 2.5 (divisão de reais)\n",
    "    \n",
    "    5/2 = 2 (divisão de inteiros)\n",
    "    \n",
    "%: Operador de resto\n",
    "\n",
    "** : Potenciação"
   ]
  },
  {
   "cell_type": "markdown",
   "metadata": {},
   "source": [
    "# Aula 2: Python 3: como rodar (terminal, IDLE, Jupyter), formatação de print, Input/Output, estruturas condicionais e While"
   ]
  },
  {
   "cell_type": "markdown",
   "metadata": {},
   "source": [
    "**COMO RODAR (TERMINAL, IDLE, JUPYTER)**\n",
    "\n",
    "- PyDev: um IDLE incluído na plataforma Eclipse\n",
    "- PyCharm da JetBrains\n",
    "- Python Tools para Visual Studio(para usuários Windows)\n",
    "- Spyder: Um IDE que atualmente acompanha o Anaconda\n",
    "- Komodo IDE(comercial)\n",
    "\n",
    "Por causa da popularidade de Python, a maioria dos editores de texto, como Atom e Sublime Text 2, tem excelente suporte para essa linguagem.\n",
    "\n",
    "Notebook: Jupyter e Collab"
   ]
  },
  {
   "cell_type": "markdown",
   "metadata": {},
   "source": [
    "**FORMATAÇÃO DE PRINT**\n",
    "\n",
    "No python 2, print é um comando, enquanto no Python 3, é uma função. Na prática, o que muda é que temos, no python 3, argumentos entre parêntesis."
   ]
  },
  {
   "cell_type": "code",
   "execution_count": 5,
   "metadata": {},
   "outputs": [
    {
     "name": "stdout",
     "output_type": "stream",
     "text": [
      "Métodos computacionais em física\n"
     ]
    }
   ],
   "source": [
    "#Exemplo\n",
    "print(\"Métodos computacionais em física\")"
   ]
  },
  {
   "cell_type": "markdown",
   "metadata": {},
   "source": [
    "Frequentemente queremos controlar o número de casas decimais com que um número será apresentado."
   ]
  },
  {
   "cell_type": "code",
   "execution_count": 6,
   "metadata": {},
   "outputs": [
    {
     "name": "stdout",
     "output_type": "stream",
     "text": [
      "O resultado da divisão 14/9 é 1.56\n"
     ]
    }
   ],
   "source": [
    "#Exemplo\n",
    "a = 14/9 #Resultado: 1.5555555555555556\n",
    "print(\"O resultado da divisão 14/9 é %.2f\" %(a))"
   ]
  },
  {
   "cell_type": "markdown",
   "metadata": {},
   "source": [
    "A letra f indica que a variável é do tipo float. O número 2 indica que o valor deve ser apresentado com duas casas decimais."
   ]
  },
  {
   "cell_type": "markdown",
   "metadata": {},
   "source": [
    "**FORMATAÇÃO DE INPUT**\n",
    "\n",
    "Serve para o programa ler um valor inserido pelo usuário."
   ]
  },
  {
   "cell_type": "code",
   "execution_count": 8,
   "metadata": {},
   "outputs": [
    {
     "name": "stdout",
     "output_type": "stream",
     "text": [
      "Digite o valor da massa em kg: 5\n",
      "5\n"
     ]
    }
   ],
   "source": [
    "#Exemplo\n",
    "massa = input(\"Digite o valor da massa em kg: \")\n",
    "print(massa)"
   ]
  },
  {
   "cell_type": "markdown",
   "metadata": {},
   "source": [
    "O valor inserido será atribuido à variável massa.\n",
    "\n",
    "ATENÇÃO: A função input retorna uma string."
   ]
  },
  {
   "cell_type": "code",
   "execution_count": 9,
   "metadata": {
    "scrolled": true
   },
   "outputs": [
    {
     "data": {
      "text/plain": [
       "str"
      ]
     },
     "execution_count": 9,
     "metadata": {},
     "output_type": "execute_result"
    }
   ],
   "source": [
    "type(massa)"
   ]
  },
  {
   "cell_type": "markdown",
   "metadata": {},
   "source": [
    "Para variáveis do tipo float:"
   ]
  },
  {
   "cell_type": "code",
   "execution_count": 10,
   "metadata": {},
   "outputs": [
    {
     "name": "stdout",
     "output_type": "stream",
     "text": [
      "Digite o valor da massa em kg: 5\n"
     ]
    },
    {
     "data": {
      "text/plain": [
       "float"
      ]
     },
     "execution_count": 10,
     "metadata": {},
     "output_type": "execute_result"
    }
   ],
   "source": [
    "massa = float(input(\"Digite o valor da massa em kg: \"))\n",
    "type(massa)"
   ]
  },
  {
   "cell_type": "markdown",
   "metadata": {},
   "source": [
    "**OPERADORES**\n",
    "\n",
    "- Operadores relacionais\n",
    "\n",
    "'>': maior\n",
    "\n",
    "'>=' : maior ou igual\n",
    "\n",
    "'<' : menor\n",
    "\n",
    "'<=' : menor ou igual\n",
    "\n",
    "'==' : igual\n",
    "\n",
    "'!=' : diferente\n",
    "\n",
    "- Operadores lógicos\n",
    "\n",
    "http://excript.com/python/operadores-logicos-python.html"
   ]
  },
  {
   "cell_type": "markdown",
   "metadata": {},
   "source": [
    "**IF, ELIF E ELSE**\n",
    "\n",
    "O if é uma estrutura de condição que permite avaliar uma expressão e, de acordo com seu resultado, executar uma determinada ação."
   ]
  },
  {
   "cell_type": "code",
   "execution_count": 11,
   "metadata": {},
   "outputs": [
    {
     "name": "stdout",
     "output_type": "stream",
     "text": [
      "O Carlos é mais velho\n"
     ]
    }
   ],
   "source": [
    "a = 2\n",
    "b = 5\n",
    "c = 8\n",
    "\n",
    "if c > a and c > b:                 #Se o c for maior que a e b será printado o que está identado na próxima linha\n",
    "    print(\"O Carlos é mais velho\")\n",
    "elif a > b and a > c:\n",
    "    print(\"A Ana é mais velha\")\n",
    "elif b > a and b > c:\n",
    "    print(\"A Beatriz é mais velha\")\n",
    "else:\n",
    "    print(\"Não foi possível identificar\")"
   ]
  },
  {
   "cell_type": "markdown",
   "metadata": {},
   "source": [
    "ATENÇÃO: A identação(espaços em branco no início dos comandos a serem executados caso a consição seja verdadeira) essencial para o programa entender o que deve ser feito caso a condição seja cumprida."
   ]
  },
  {
   "cell_type": "markdown",
   "metadata": {},
   "source": [
    "**WHILE**\n",
    "\n",
    "É um tipo de loop. Em programação é muito comum repetirmos um mesmo conjunto de instruções várias vezes.\n",
    "Muito usado para calcular somatórios.\n",
    "\n",
    "Dentro de um loop uma série de comandos é executada de forma repetida com a alteração de uma expressão de controle até que uma uma condição de parada seja preenchida.\n",
    "\n",
    "- Ao encontarr o comando while a condição é testada\n",
    "- Caso seja V, executa as instruções dentro do loop, e ao final do loop, testa novamente.\n",
    "- Caso seja F, pula para o final do loop\n",
    "- Deve-se tomar cuidado em inicializar o valor testado em condição, e em atualizar essa condução entro do loop"
   ]
  },
  {
   "cell_type": "code",
   "execution_count": 12,
   "metadata": {
    "scrolled": true
   },
   "outputs": [
    {
     "name": "stdout",
     "output_type": "stream",
     "text": [
      "1 1.0\n",
      "2 1.5\n",
      "3 1.8333333333333333\n",
      "4 2.083333333333333\n",
      "O somatório equivale à:  2.083333333333333\n"
     ]
    }
   ],
   "source": [
    "n = 1\n",
    "soma = 0\n",
    "while n <= 4:\n",
    "    soma = soma + 1/n\n",
    "    print(n, soma)\n",
    "    n+=1\n",
    "print(\"O somatório equivale à: \", soma)"
   ]
  },
  {
   "cell_type": "code",
   "execution_count": null,
   "metadata": {},
   "outputs": [],
   "source": [
    "'''\n",
    "Exercício 3 da tarefa 2\n",
    "'''\n",
    "from math import *\n",
    "print (\"Esse programa calcula as raízes de uma equação do segundo grau.\\nSabendo que a equação o segundo grau tem a forma ax² + bx + c = 0\")\n",
    "a = float(input(\"Digite o valor de a: \"))\n",
    "#Enquanto a for igual a zero, pedir novamente o valor de a e informar o porquê\n",
    "while a == 0:\n",
    "    print (\"O valor de a deve ser diferente de zero\")\n",
    "    a = float(input(\"Digite o valor de a: \"))\n",
    "b = float(input(\"Digite o valor de b: \"))\n",
    "c = float(input(\"Digite o valor de c: \"))\n",
    "delta = b**2 - 4*a*c\n",
    "\n",
    "#ATENÇÃO: Não se deve comparar uma variável float usando == pois os números no computador são aproximados. \n",
    "#Deve-se usar if fabs(delta)<1.e-12  (ou qualquer numero muito pequeno)\n",
    "if fabs(delta)<1.e-12:\n",
    "    print (\"A equação possui uma raiz real. O valor de x é: \", (-b)/(2*a))\n",
    "elif delta > 0:\n",
    "    x1 = ((-b + (sqrt(delta))) / (2*a))\n",
    "    x2 = ((-b - (sqrt(delta))) / (2*a))\n",
    "    print (\"X pode assumir dois valores reais: %.2f e %.2f\" %(x1, x2))\n",
    "else:\n",
    "    from cmath import sqrt               #Aqui importar essa lib para trabalhar com raiz negativa\n",
    "    x1 = ((-b + (sqrt(delta))) / (2*a))\n",
    "    x2 = ((-b - (sqrt(delta))) / (2*a))\n",
    "    print (\"X possui duas raízes complexas\")\n",
    "    print (\"Um possui valor real igual a %.f e valor imaginário igual a %.3f\" %(x1.real,x1.imag))\n",
    "    print (\"Um possui valor real igual a %.f e valor imaginário igual a %.3f\" %(x2.real,x2.imag))"
   ]
  },
  {
   "cell_type": "code",
   "execution_count": 37,
   "metadata": {},
   "outputs": [
    {
     "name": "stdout",
     "output_type": "stream",
     "text": [
      "Esse é um programa que mostra os divisores de um número e a quantidade de divisores\n",
      "Entre com um número inteiro e positivo: 8\n",
      "Os divisores são: \n",
      "1\n",
      "2\n",
      "4\n",
      "8\n",
      "O número 8 tem 4 divisores\n"
     ]
    }
   ],
   "source": [
    "'''\n",
    "Exercício 9 da tarefa 2\n",
    "'''\n",
    "#Mostrar o que o programa faz\n",
    "print(\"Esse é um programa que mostra os divisores de um número e a quantidade de divisores\")\n",
    "#Pedir o número\n",
    "x = int(input(\"Entre com um número inteiro e positivo: \"))\n",
    "while x <=0: #O número precisa ser positivo, então de alertar se colocar um número negativo ou igual a zero\n",
    "    print(\"O número precisa ser positivo\")\n",
    "    x = int(input(\"Entre com um número inteiro e positivo: \"))\n",
    "#Declarar duas variáveis como zero(elas mudarão seu valor)\n",
    "n = 0\n",
    "div = 0\n",
    "#Escrever uma frase que indica os divisores\n",
    "print(\"Os divisores são: \")\n",
    "#Esse while calcula os os devisores através de algumas condições\n",
    "while n <= x:      #Rodar o loop enquanto n for menor ou igual a x\n",
    "    n = n + 1 \n",
    "    if x%n == 0:   \n",
    "        div += 1\n",
    "        print(n)\n",
    "#Por fim, printar o número de divisores\n",
    "print(\"O número %d tem %d divisores\" %(x , div))"
   ]
  },
  {
   "cell_type": "markdown",
   "metadata": {},
   "source": [
    "# Aula 3: Listas, For, numpy.array"
   ]
  },
  {
   "cell_type": "markdown",
   "metadata": {},
   "source": [
    "**LISTAS**\n",
    "\n",
    "As listas tem tamanhos variáveis e seu conteúdo pode ser modificado in-place. Podemos defini-las usando colchetes ou com a função de tipo list."
   ]
  },
  {
   "cell_type": "code",
   "execution_count": 13,
   "metadata": {},
   "outputs": [],
   "source": [
    "#Exemplo\n",
    "a = [1, 2, 3, 4] #Cada elemento está associado a um índice, começando do zero"
   ]
  },
  {
   "cell_type": "code",
   "execution_count": 14,
   "metadata": {},
   "outputs": [
    {
     "data": {
      "text/plain": [
       "list"
      ]
     },
     "execution_count": 14,
     "metadata": {},
     "output_type": "execute_result"
    }
   ],
   "source": [
    "b = ('azul', 'amarelo', 'verde')\n",
    "c = list(b)\n",
    "type(c)"
   ]
  },
  {
   "cell_type": "markdown",
   "metadata": {},
   "source": [
    "- Operações com listas"
   ]
  },
  {
   "cell_type": "code",
   "execution_count": 15,
   "metadata": {},
   "outputs": [
    {
     "name": "stdout",
     "output_type": "stream",
     "text": [
      "[0, 2, 3, 4]\n"
     ]
    }
   ],
   "source": [
    "a[0] = 0\n",
    "print(a)"
   ]
  },
  {
   "cell_type": "code",
   "execution_count": 16,
   "metadata": {},
   "outputs": [
    {
     "name": "stdout",
     "output_type": "stream",
     "text": [
      "[0, 2, 3, 4, 5]\n"
     ]
    }
   ],
   "source": [
    "a.append(5) #Acrescenta um elemento à lista\n",
    "print(a)"
   ]
  },
  {
   "cell_type": "code",
   "execution_count": 17,
   "metadata": {},
   "outputs": [
    {
     "data": {
      "text/plain": [
       "5"
      ]
     },
     "execution_count": 17,
     "metadata": {},
     "output_type": "execute_result"
    }
   ],
   "source": [
    "a[-1] #índice o último elemento"
   ]
  },
  {
   "cell_type": "code",
   "execution_count": 18,
   "metadata": {},
   "outputs": [
    {
     "name": "stdout",
     "output_type": "stream",
     "text": [
      "[0, 2, 3, 4]\n"
     ]
    }
   ],
   "source": [
    "a.pop() #Remove o último elemento\n",
    "print(a)"
   ]
  },
  {
   "cell_type": "code",
   "execution_count": 19,
   "metadata": {},
   "outputs": [
    {
     "name": "stdout",
     "output_type": "stream",
     "text": [
      "[0, 3, 4]\n"
     ]
    }
   ],
   "source": [
    "del a[1] #Remove o elemento da segunda posição\n",
    "print(a)"
   ]
  },
  {
   "cell_type": "code",
   "execution_count": 20,
   "metadata": {},
   "outputs": [
    {
     "name": "stdout",
     "output_type": "stream",
     "text": [
      "[0, 3, 3, 4]\n"
     ]
    }
   ],
   "source": [
    "a.insert(1, 3) #insere 3 na segunda posição\n",
    "print(a)"
   ]
  },
  {
   "cell_type": "code",
   "execution_count": 21,
   "metadata": {
    "scrolled": true
   },
   "outputs": [
    {
     "data": {
      "text/plain": [
       "4"
      ]
     },
     "execution_count": 21,
     "metadata": {},
     "output_type": "execute_result"
    }
   ],
   "source": [
    "len(a) #números de itens na lista"
   ]
  },
  {
   "cell_type": "code",
   "execution_count": 22,
   "metadata": {},
   "outputs": [
    {
     "data": {
      "text/plain": [
       "10"
      ]
     },
     "execution_count": 22,
     "metadata": {},
     "output_type": "execute_result"
    }
   ],
   "source": [
    "sum(a) #soma dos elementos da lista"
   ]
  },
  {
   "cell_type": "code",
   "execution_count": 23,
   "metadata": {
    "scrolled": true
   },
   "outputs": [
    {
     "data": {
      "text/plain": [
       "3"
      ]
     },
     "execution_count": 23,
     "metadata": {},
     "output_type": "execute_result"
    }
   ],
   "source": [
    "a.index(4) #Obter o índice do elemento 4"
   ]
  },
  {
   "cell_type": "markdown",
   "metadata": {},
   "source": [
    "**FOR**\n",
    "\n",
    "Uma outra forma de loop é a instrução for. Ele é mais conveniente para trabalhar com listas. "
   ]
  },
  {
   "cell_type": "code",
   "execution_count": 24,
   "metadata": {},
   "outputs": [
    {
     "name": "stdout",
     "output_type": "stream",
     "text": [
      "0   32.00\n",
      "5   41.00\n",
      "10   50.00\n",
      "15   59.00\n",
      "20   68.00\n",
      "25   77.00\n",
      "A lista possui 6 elementos\n"
     ]
    }
   ],
   "source": [
    "graus = [0, 5, 10, 15, 20, 25]\n",
    "for c in graus:                #c é um iterator\n",
    "    f = (9/5) * c + 32\n",
    "    print(\"%d %7.2f\" %(c,f))\n",
    "print(\"A lista possui %d elementos\" %len(graus))\n",
    "#Ao término dos comandos identados, c é atualizado com o segundo valor da lista e assim por diante"
   ]
  },
  {
   "cell_type": "markdown",
   "metadata": {},
   "source": [
    "**numpy.array**\n",
    "\n",
    "Um array multidimensional eficaz que oferece operações aritméticas rápidas, orientadas a arrays, e recursos flexíveis de brodcasting.\n",
    "\n",
    "- funções matemáticas para operações rápidas em arrays de dados inteiros sem que seja necessário escrever laços.\n",
    "- ferramentas para ler/escrever dados de array em disco e trabalhar com arquivos mapeados em memória.\n",
    "- recursos para álgebra linear, geração de números aleatórios e transformadas de Fourier.\n",
    "\n",
    "Duas diferenças importantes entre Array e List:\n",
    "\n",
    "- todos os elementos devem ser do mesmo tipo (float, int ...)\n",
    "- o número de elementos deve ser conhecido na criação, não pode ser modificado posteriormente."
   ]
  },
  {
   "cell_type": "code",
   "execution_count": 25,
   "metadata": {},
   "outputs": [
    {
     "name": "stdout",
     "output_type": "stream",
     "text": [
      "[[-1.26621876  0.02126187  0.0285703 ]\n",
      " [ 0.57543587 -0.68881417 -0.61350318]]\n"
     ]
    }
   ],
   "source": [
    "data = np.random.randn(2, 3)\n",
    "print(data)"
   ]
  },
  {
   "cell_type": "markdown",
   "metadata": {},
   "source": [
    "- Operações"
   ]
  },
  {
   "cell_type": "code",
   "execution_count": 26,
   "metadata": {},
   "outputs": [
    {
     "data": {
      "text/plain": [
       "array([[-12.6621876 ,   0.21261869,   0.285703  ],\n",
       "       [  5.75435873,  -6.8881417 ,  -6.13503181]])"
      ]
     },
     "execution_count": 26,
     "metadata": {},
     "output_type": "execute_result"
    }
   ],
   "source": [
    "data*10"
   ]
  },
  {
   "cell_type": "code",
   "execution_count": 40,
   "metadata": {},
   "outputs": [
    {
     "name": "stdout",
     "output_type": "stream",
     "text": [
      "Esse programa calcula o valor do seno de um ângulo: \n",
      "Entre com o valor do ângulo: 0.5\n",
      "Entre com o valor de n: 10\n",
      "O valor do seno através da fórmula é: 0.479425538604203\n",
      "O valor do seno usando o sin da lib math é: 0.479425538604203\n"
     ]
    }
   ],
   "source": [
    "'''\n",
    "Exercício 2 da tarefa 3\n",
    "'''\n",
    "print(\"Esse programa calcula o valor do seno de um ângulo: \")\n",
    "\n",
    "from math import *\n",
    "#Pedir o valor do ângulo e o valor de n\n",
    "x = float(input(\"Entre com o valor do ângulo: \"))    \n",
    "n = int(input(\"Entre com o valor de n: \"))\n",
    "\n",
    "sen = 0                    \n",
    "for n in range(0,n+1):     #Esse for percorre um valor de n até que ele chegue ao valor de entrada \n",
    "    sen += ((-1)**n)/(factorial(2*n+1))*(x**(2*n+1))     \n",
    "print(\"O valor do seno através da fórmula é:\" ,sen)       \n",
    "\n",
    "#Calculando o valor do seno usando seno usando sin da lib math\n",
    "print(\"O valor do seno usando o sin da lib math é:\", sin(x))"
   ]
  },
  {
   "cell_type": "code",
   "execution_count": 38,
   "metadata": {},
   "outputs": [
    {
     "ename": "OSError",
     "evalue": "media not found.",
     "output_type": "error",
     "traceback": [
      "\u001b[0;31m---------------------------------------------------------------------------\u001b[0m",
      "\u001b[0;31mOSError\u001b[0m                                   Traceback (most recent call last)",
      "\u001b[0;32m<ipython-input-38-9b0e5f797e9c>\u001b[0m in \u001b[0;36m<module>\u001b[0;34m\u001b[0m\n\u001b[1;32m      6\u001b[0m \u001b[0;32mfrom\u001b[0m \u001b[0mmath\u001b[0m \u001b[0;32mimport\u001b[0m \u001b[0;34m*\u001b[0m\u001b[0;34m\u001b[0m\u001b[0;34m\u001b[0m\u001b[0m\n\u001b[1;32m      7\u001b[0m \u001b[0;34m\u001b[0m\u001b[0m\n\u001b[0;32m----> 8\u001b[0;31m \u001b[0mnotas\u001b[0m \u001b[0;34m=\u001b[0m \u001b[0mnp\u001b[0m\u001b[0;34m.\u001b[0m\u001b[0mloadtxt\u001b[0m\u001b[0;34m(\u001b[0m\u001b[0;34m\"media\"\u001b[0m\u001b[0;34m)\u001b[0m  \u001b[0;31m#Carregar arquivo\u001b[0m\u001b[0;34m\u001b[0m\u001b[0;34m\u001b[0m\u001b[0m\n\u001b[0m\u001b[1;32m      9\u001b[0m \u001b[0mprint\u001b[0m\u001b[0;34m(\u001b[0m\u001b[0mnotas\u001b[0m\u001b[0;34m)\u001b[0m\u001b[0;34m\u001b[0m\u001b[0;34m\u001b[0m\u001b[0m\n\u001b[1;32m     10\u001b[0m \u001b[0;34m\u001b[0m\u001b[0m\n",
      "\u001b[0;32m~/miniconda3/envs/metcomp/lib/python3.8/site-packages/numpy/lib/npyio.py\u001b[0m in \u001b[0;36mloadtxt\u001b[0;34m(fname, dtype, comments, delimiter, converters, skiprows, usecols, unpack, ndmin, encoding, max_rows)\u001b[0m\n\u001b[1;32m    959\u001b[0m             \u001b[0mfname\u001b[0m \u001b[0;34m=\u001b[0m \u001b[0mos_fspath\u001b[0m\u001b[0;34m(\u001b[0m\u001b[0mfname\u001b[0m\u001b[0;34m)\u001b[0m\u001b[0;34m\u001b[0m\u001b[0;34m\u001b[0m\u001b[0m\n\u001b[1;32m    960\u001b[0m         \u001b[0;32mif\u001b[0m \u001b[0m_is_string_like\u001b[0m\u001b[0;34m(\u001b[0m\u001b[0mfname\u001b[0m\u001b[0;34m)\u001b[0m\u001b[0;34m:\u001b[0m\u001b[0;34m\u001b[0m\u001b[0;34m\u001b[0m\u001b[0m\n\u001b[0;32m--> 961\u001b[0;31m             \u001b[0mfh\u001b[0m \u001b[0;34m=\u001b[0m \u001b[0mnp\u001b[0m\u001b[0;34m.\u001b[0m\u001b[0mlib\u001b[0m\u001b[0;34m.\u001b[0m\u001b[0m_datasource\u001b[0m\u001b[0;34m.\u001b[0m\u001b[0mopen\u001b[0m\u001b[0;34m(\u001b[0m\u001b[0mfname\u001b[0m\u001b[0;34m,\u001b[0m \u001b[0;34m'rt'\u001b[0m\u001b[0;34m,\u001b[0m \u001b[0mencoding\u001b[0m\u001b[0;34m=\u001b[0m\u001b[0mencoding\u001b[0m\u001b[0;34m)\u001b[0m\u001b[0;34m\u001b[0m\u001b[0;34m\u001b[0m\u001b[0m\n\u001b[0m\u001b[1;32m    962\u001b[0m             \u001b[0mfencoding\u001b[0m \u001b[0;34m=\u001b[0m \u001b[0mgetattr\u001b[0m\u001b[0;34m(\u001b[0m\u001b[0mfh\u001b[0m\u001b[0;34m,\u001b[0m \u001b[0;34m'encoding'\u001b[0m\u001b[0;34m,\u001b[0m \u001b[0;34m'latin1'\u001b[0m\u001b[0;34m)\u001b[0m\u001b[0;34m\u001b[0m\u001b[0;34m\u001b[0m\u001b[0m\n\u001b[1;32m    963\u001b[0m             \u001b[0mfh\u001b[0m \u001b[0;34m=\u001b[0m \u001b[0miter\u001b[0m\u001b[0;34m(\u001b[0m\u001b[0mfh\u001b[0m\u001b[0;34m)\u001b[0m\u001b[0;34m\u001b[0m\u001b[0;34m\u001b[0m\u001b[0m\n",
      "\u001b[0;32m~/miniconda3/envs/metcomp/lib/python3.8/site-packages/numpy/lib/_datasource.py\u001b[0m in \u001b[0;36mopen\u001b[0;34m(path, mode, destpath, encoding, newline)\u001b[0m\n\u001b[1;32m    193\u001b[0m \u001b[0;34m\u001b[0m\u001b[0m\n\u001b[1;32m    194\u001b[0m     \u001b[0mds\u001b[0m \u001b[0;34m=\u001b[0m \u001b[0mDataSource\u001b[0m\u001b[0;34m(\u001b[0m\u001b[0mdestpath\u001b[0m\u001b[0;34m)\u001b[0m\u001b[0;34m\u001b[0m\u001b[0;34m\u001b[0m\u001b[0m\n\u001b[0;32m--> 195\u001b[0;31m     \u001b[0;32mreturn\u001b[0m \u001b[0mds\u001b[0m\u001b[0;34m.\u001b[0m\u001b[0mopen\u001b[0m\u001b[0;34m(\u001b[0m\u001b[0mpath\u001b[0m\u001b[0;34m,\u001b[0m \u001b[0mmode\u001b[0m\u001b[0;34m,\u001b[0m \u001b[0mencoding\u001b[0m\u001b[0;34m=\u001b[0m\u001b[0mencoding\u001b[0m\u001b[0;34m,\u001b[0m \u001b[0mnewline\u001b[0m\u001b[0;34m=\u001b[0m\u001b[0mnewline\u001b[0m\u001b[0;34m)\u001b[0m\u001b[0;34m\u001b[0m\u001b[0;34m\u001b[0m\u001b[0m\n\u001b[0m\u001b[1;32m    196\u001b[0m \u001b[0;34m\u001b[0m\u001b[0m\n\u001b[1;32m    197\u001b[0m \u001b[0;34m\u001b[0m\u001b[0m\n",
      "\u001b[0;32m~/miniconda3/envs/metcomp/lib/python3.8/site-packages/numpy/lib/_datasource.py\u001b[0m in \u001b[0;36mopen\u001b[0;34m(self, path, mode, encoding, newline)\u001b[0m\n\u001b[1;32m    533\u001b[0m                                       encoding=encoding, newline=newline)\n\u001b[1;32m    534\u001b[0m         \u001b[0;32melse\u001b[0m\u001b[0;34m:\u001b[0m\u001b[0;34m\u001b[0m\u001b[0;34m\u001b[0m\u001b[0m\n\u001b[0;32m--> 535\u001b[0;31m             \u001b[0;32mraise\u001b[0m \u001b[0mIOError\u001b[0m\u001b[0;34m(\u001b[0m\u001b[0;34m\"%s not found.\"\u001b[0m \u001b[0;34m%\u001b[0m \u001b[0mpath\u001b[0m\u001b[0;34m)\u001b[0m\u001b[0;34m\u001b[0m\u001b[0;34m\u001b[0m\u001b[0m\n\u001b[0m\u001b[1;32m    536\u001b[0m \u001b[0;34m\u001b[0m\u001b[0m\n\u001b[1;32m    537\u001b[0m \u001b[0;34m\u001b[0m\u001b[0m\n",
      "\u001b[0;31mOSError\u001b[0m: media not found."
     ]
    }
   ],
   "source": [
    "'''\n",
    "Exercício 4 da tarefa 3\n",
    "'''\n",
    "\n",
    "import numpy as np\n",
    "from math import *\n",
    "\n",
    "notas = np.loadtxt(\"media\")  #Carregar arquivo\n",
    "print(notas)\n",
    "\n",
    "num_alunos = len(notas)\n",
    "print(\"O número de alunos é: \", num_alunos)\n",
    "\n",
    "#Para calcular a média soma-se todas as notas com o sum e divide pelo número de alunos\n",
    "media = sum(notas)/num_alunos\n",
    "print(\"A média das notas da turma foi: %.1f\" %media)\n",
    "\n",
    "#A partir daqui calcula-se o valor do desvio padrão\n",
    "des_pad = 0                                  \n",
    "for x in notas:                              \n",
    "    des_pad += (x - media)**2               \n",
    "dp = sqrt((1/(num_alunos - 1))*des_pad)   \n",
    "print(\"O desvio padrão das notas é: %.1f\" %dp)\n",
    "\n",
    "aprovado = 0\n",
    "reprovado = 0\n",
    "prova_final = 0\n",
    "for x in notas:       #Esse for percorre todos os termos do array\n",
    "    if x >= 7:      \n",
    "        aprovado += 1\n",
    "    elif x<3:         \n",
    "        reprovado +=1\n",
    "    else:         \n",
    "        prova_final += 1\n",
    "print(\"O número de aprovados direto com nota maior ou igual a 7:\", aprovado)  \n",
    "print(\"O número de reprovados direto com nota menor que 3:\", reprovado)\n",
    "print(\"O número de alunos que precisarão de prova final será:\", prova_final)\n",
    "#Usando .std ele calcula o desvio padrão sem necessidade de muitas linhas de código\n",
    "print(\"O desvio padrão usando o np.std(array) é: %.1f\" %(np.std(notas)))\n",
    "\n",
    "#Usando .mean ele calcula a média sem necessidade de foŕmula\n",
    "print(\"O média usando o np.mean(array): %.1f\" %(np.mean(notas)))"
   ]
  },
  {
   "cell_type": "markdown",
   "metadata": {},
   "source": [
    "# Aula 4: Funções"
   ]
  },
  {
   "cell_type": "markdown",
   "metadata": {},
   "source": [
    "A sintaxe de uma função é definida por três partes: nome, parâmetros e corpo, o qual agrupa uma sequência de linhas que representa algum comportamento.\n",
    "\n",
    "Se você prevê que precisará repetir o mesmo código ou um código muito semelhante mais de uma vez, talvez valha a pena escrever uma função reutilizável."
   ]
  },
  {
   "cell_type": "code",
   "execution_count": 28,
   "metadata": {},
   "outputs": [],
   "source": [
    "def hello(meu_nome):\n",
    "    print(\"Olá\", meu_nome)"
   ]
  },
  {
   "cell_type": "markdown",
   "metadata": {},
   "source": [
    "Essa função, de nome hello, tem como objetivo imprimir o nome que lhe é passado por parâmetro (também chamado de argumento). A palavra reservada def, na primeira linha, explicita a definição da função naquele ponto. Em seguida, entre parênteses, temos o parâmetro meu_nome. Ainda na mesma linha, observe a utilização dos dois pontos (:), que indicam que o código identado nas linhas abaixo faz parte da função que está sendo criada.\n",
    "\n",
    "Para executar a função, devemos simplesmente chamar seu nome e passar os parâmetros esperados entre parênteses, conforme o código a seguir.\n",
    "\n",
    "https://www.devmedia.com.br/funcoes-em-python/37340"
   ]
  },
  {
   "cell_type": "code",
   "execution_count": 29,
   "metadata": {},
   "outputs": [
    {
     "name": "stdout",
     "output_type": "stream",
     "text": [
      "Olá Larissa\n"
     ]
    }
   ],
   "source": [
    "hello('Larissa')"
   ]
  },
  {
   "cell_type": "code",
   "execution_count": 30,
   "metadata": {},
   "outputs": [],
   "source": [
    "#Outro exemplo\n",
    "def my_function(x, y, z = 1.5):\n",
    "    if z > 1:\n",
    "        return z*(x+y)\n",
    "    else:\n",
    "        return z/(x+y)"
   ]
  },
  {
   "cell_type": "code",
   "execution_count": 41,
   "metadata": {},
   "outputs": [
    {
     "name": "stdout",
     "output_type": "stream",
     "text": [
      "o angulo entre\n",
      "[2.  5.  4.5]\n",
      "e\n",
      "[1.  1.5 3. ]\n",
      "é 20 graus\n"
     ]
    }
   ],
   "source": [
    "#Créditos para a Carol\n",
    "'''\n",
    "Exercício 1(d) da tarefa 4\n",
    "'''\n",
    "from math import *\n",
    "import numpy as np\n",
    "\n",
    "def angulo(x,y):\n",
    "\n",
    "    \"\"\"\n",
    "    Calcula o angulo entre os vetores de 3 dimensoes x e y\n",
    "    return o angulo entre os vetores em graus\n",
    "    \"\"\"\n",
    "\n",
    "    escalar = x[0]*y[0] + x[1]*y[1] + x[2]*y[2]   #produto escalar entre os vetores\n",
    "    modx = sqrt(x[0]**2 + x[1]**2 + x[2]**2)      #módulo do vetor x\n",
    "    mody = sqrt(y[0]**2 + y[1]**2 + y[2]**2)      #módulo do vetor y\n",
    "        \n",
    "    cos = escalar / (modx * mody)                 #define o valor do cosseno entre esses vetores \n",
    "    teta = degrees(np.arccos(cos))                #converte o valor em radianos para graus\n",
    "    return teta\n",
    "\n",
    "vet1 = np.array([2.0,5.0,4.5])                    #define o vetor 1\n",
    "vet2 = np.array([1.0,1.5,3.0])                    #define o vetor 2\n",
    "angulo12 = angulo(vet1,vet2)                      #encontrar o angulo entre os vetores\n",
    "print(\"o angulo entre\")\n",
    "print(vet1)\n",
    "print (\"e\")\n",
    "print(vet2)\n",
    "print(\"é %d graus\" %(angulo12))"
   ]
  },
  {
   "cell_type": "code",
   "execution_count": 42,
   "metadata": {},
   "outputs": [
    {
     "name": "stdout",
     "output_type": "stream",
     "text": [
      "6\n",
      "Hello, World!\n",
      "[1, 2, 4, 3]\n"
     ]
    }
   ],
   "source": [
    "\"\"\"\n",
    "Exercício 1(h) da tarefa 4\n",
    "Esse programa calcula a soma dos elementos de uma lista\n",
    "\"\"\"\n",
    "lista1 = [1,2,3]               #Definir as listas\n",
    "lista2 = ['Hello, ', 'World!'] \n",
    "lista3 = [[1, 2],[4,3]]        \n",
    "def mysum(x):                  #Essa função calcula a soma dos elementos de uma função\n",
    "    \"\"\"\n",
    "    Calcula a soma dos elementos de uma lista\n",
    "    return: a soma dos elementos da lista\n",
    "    \"\"\"\n",
    "    soma = x[0]                #A variável assume o valor do primeiro item da lista\n",
    "    for i in x[1:]:            #Percorrer cada elemento da lista a partir do segundo\n",
    "        soma += i              #Somar cada valor da lista na variável soma\n",
    "    return soma\n",
    "print(mysum(lista1))\n",
    "print(mysum(lista2))\n",
    "print(mysum(lista3))"
   ]
  },
  {
   "cell_type": "markdown",
   "metadata": {},
   "source": [
    "# Aula 5: Matplotlib.pyplot, Série de Taylor, Histogramas, interface OO, Animação, Matrizes, Ajuste de funções"
   ]
  },
  {
   "cell_type": "markdown",
   "metadata": {},
   "source": [
    "**PLOTAGEM E VISUALIZAÇÃO**\n",
    "\n",
    "https://matplotlib.org/gallery/index.html\n",
    "\n"
   ]
  },
  {
   "cell_type": "code",
   "execution_count": 31,
   "metadata": {},
   "outputs": [
    {
     "data": {
      "text/plain": [
       "[<matplotlib.lines.Line2D at 0x7fe0a10eec40>]"
      ]
     },
     "execution_count": 31,
     "metadata": {},
     "output_type": "execute_result"
    },
    {
     "data": {
      "image/png": "[encoded data removed]",
      "text/plain": [
       "<Figure size 432x288 with 1 Axes>"
      ]
     },
     "metadata": {
      "needs_background": "light"
     },
     "output_type": "display_data"
    }
   ],
   "source": [
    "#Uma plotagem de linha simples\n",
    "data = np.arange(10)\n",
    "plt.plot(data)"
   ]
  },
  {
   "cell_type": "markdown",
   "metadata": {},
   "source": [
    "- Subplotagens"
   ]
  },
  {
   "cell_type": "code",
   "execution_count": 32,
   "metadata": {
    "scrolled": true
   },
   "outputs": [
    {
     "data": {
      "text/plain": [
       "[<matplotlib.lines.Line2D at 0x7fe0a0f92490>]"
      ]
     },
     "execution_count": 32,
     "metadata": {},
     "output_type": "execute_result"
    },
    {
     "data": {
      "image/png": "[encoded data removed]",
      "text/plain": [
       "<Figure size 432x288 with 3 Axes>"
      ]
     },
     "metadata": {
      "needs_background": "light"
     },
     "output_type": "display_data"
    }
   ],
   "source": [
    "fig = plt.figure()\n",
    "ax1 = fig.add_subplot(2,2,1)\n",
    "ax2 = fig.add_subplot(2,2,2)\n",
    "ax3 = fig.add_subplot(2,2,3)\n",
    "\n",
    "ax1.hist(np.random.randn(100), bins=20, color='k', alpha = 0.3)\n",
    "ax2.scatter(np.arange(30), np.arange(30) + 3 * np.random.randn(30))\n",
    "ax3.plot(np.random.randn(50).cumsum(), 'k--')"
   ]
  },
  {
   "cell_type": "markdown",
   "metadata": {},
   "source": [
    "- Cores, marcadores e estilos de linha\n",
    "\n",
    "Cores: b, g, r, c, m, y, k, w\n",
    "    \n",
    "    Por exemplo, para plotar x versus y com traços verdes, executaríamos: ax.plot(x, y, 'g--')\n",
    "    Há uma série de abreviaturas de cores, disponibilizada para cores comumente usadas, mas podemos utilizar qualquer cor do espectro especificando o seu código hexa(por exemplo, '#CECECE').\n",
    "    \n",
    "Marcadores: o\n",
    "\n",
    "Estilos de linha: - , --, ."
   ]
  },
  {
   "cell_type": "code",
   "execution_count": 33,
   "metadata": {},
   "outputs": [
    {
     "data": {
      "text/plain": [
       "[<matplotlib.lines.Line2D at 0x7fe0a0f83fd0>]"
      ]
     },
     "execution_count": 33,
     "metadata": {},
     "output_type": "execute_result"
    },
    {
     "data": {
      "image/png": "[encoded data removed]",
      "text/plain": [
       "<Figure size 432x288 with 1 Axes>"
      ]
     },
     "metadata": {
      "needs_background": "light"
     },
     "output_type": "display_data"
    }
   ],
   "source": [
    "#Exemplo\n",
    "data = np.arange(10)\n",
    "plt.plot(data, 'g--')"
   ]
  },
  {
   "cell_type": "code",
   "execution_count": 34,
   "metadata": {
    "scrolled": true
   },
   "outputs": [
    {
     "data": {
      "text/plain": [
       "[<matplotlib.lines.Line2D at 0x7fe0a0ed4fd0>]"
      ]
     },
     "execution_count": 34,
     "metadata": {},
     "output_type": "execute_result"
    },
    {
     "data": {
      "image/png": "[encoded data removed]",
      "text/plain": [
       "<Figure size 432x288 with 1 Axes>"
      ]
     },
     "metadata": {
      "needs_background": "light"
     },
     "output_type": "display_data"
    }
   ],
   "source": [
    "#Exemplo\n",
    "plt.plot(np.random.randn(30).cumsum(), color='k', linestyle = '--', marker = 'o')"
   ]
  },
  {
   "cell_type": "markdown",
   "metadata": {},
   "source": [
    "- Tiques, rótulos\n",
    "\n",
    "A interface pyplot, projetada para uso interativo, é constituídade métodos como xlim, xticks, xticklabels. Eles controlam o intervalo da plotagem, as localizações dos tiques e seus rótulos, respectivamente. Podem ser usados de duas maneiras.\n",
    "\n",
    "    Se forem chamados sem argumentos, devolvem o valor atual do parâmetro(por exemplo, plt.xlim() devolve o intervalo atual de plotagem no eixo x).\n",
    "    \n",
    "    Se forem chamados com parâmetros, definem seus valores(por exemplo, plt.xlim([0,10]) define o intervalo do eixo x como sendo de 0 a 10).\n",
    "\n",
    "- Legendas"
   ]
  },
  {
   "cell_type": "code",
   "execution_count": 35,
   "metadata": {
    "scrolled": true
   },
   "outputs": [
    {
     "data": {
      "text/plain": [
       "<matplotlib.legend.Legend at 0x7fe0a0ebef70>"
      ]
     },
     "execution_count": 35,
     "metadata": {},
     "output_type": "execute_result"
    },
    {
     "data": {
      "image/png": "[encoded data removed]",
      "text/plain": [
       "<Figure size 432x288 with 1 Axes>"
      ]
     },
     "metadata": {
      "needs_background": "light"
     },
     "output_type": "display_data"
    }
   ],
   "source": [
    "fig = plt.figure()\n",
    "ax = fig.add_subplot(1,1,1)\n",
    "plt.xlabel('x')       #Nome do eixo x\n",
    "plt.ylabel('y')       #Nome do eixo y\n",
    "ax.plot(np.random.randn(1000).cumsum(), 'k', label = 'one')    #label\n",
    "ax.plot(np.random.randn(1000).cumsum(), 'r', label = 'two')\n",
    "ax.plot(np.random.randn(1000).cumsum(), 'g', label = 'three')\n",
    "ax.legend()"
   ]
  },
  {
   "cell_type": "markdown",
   "metadata": {},
   "source": [
    "- Salvando plotagens em arquivos\n",
    "\n",
    "plt.savefig('xxxxxxx.png')"
   ]
  },
  {
   "cell_type": "markdown",
   "metadata": {},
   "source": [
    "**SÉRIE DE TAYLOR**\n",
    "\n",
    "É uma das ferramentas matemáticas mais importantes em métodos numéricos e computação científica. A série de Taylor é uma representação de uma função usando uma soma infinita. Computadores costumam fazer as aproximações dos valores de funções trigonométricas, função transcendental exponencial ou outro somando um número finito de termos de sua série de Taylor."
   ]
  },
  {
   "cell_type": "code",
   "execution_count": 36,
   "metadata": {},
   "outputs": [
    {
     "name": "stdout",
     "output_type": "stream",
     "text": [
      "Entre com o valor do ângulo: 0.5\n",
      "Entre com o valor de n: 10\n",
      "O valor de seno(x) utilizando Série de Taylor é:  0.479425538604203\n",
      "O valor de seno(x) utilizando a lib math:  (0.479425538604203+0j)\n",
      "A diferença entre os valores é 0j\n",
      "O termo seguinte é:  0.0\n"
     ]
    },
    {
     "data": {
      "image/png": "[encoded data removed]",
      "text/plain": [
       "<Figure size 432x288 with 1 Axes>"
      ]
     },
     "metadata": {
      "needs_background": "light"
     },
     "output_type": "display_data"
    }
   ],
   "source": [
    "#Como exemplo temos(assim como o exercício 2 da tarefa 3):\n",
    "'''\n",
    "Exercício 1 da tarefa 5\n",
    "'''\n",
    "def taylor_seno(x,n):\n",
    "    '''\n",
    "    Essa função calculo o seno de um ângulo\n",
    "    return: seno\n",
    "    '''\n",
    "    sen = 0                                                  #Definir um valor inicial para sen como zero\n",
    "    for n in range(0,n):                                   #Esse for percorre um valor de n até que ele chegue ao valor de entrada \n",
    "        sen += ((-1)**n)/(factorial(2*n+1))*(x**(2*n+1))     #Escrever o somatório do seno\n",
    "    return sen\n",
    "\n",
    "x = float(input(\"Entre com o valor do ângulo: \"))\n",
    "n = int(input(\"Entre com o valor de n: \"))\n",
    "\n",
    "print(\"O valor de seno(x) utilizando Série de Taylor é: \", taylor_seno(x,n))\n",
    "print(\"O valor de seno(x) utilizando a lib math: \", sin(x))\n",
    "print(\"A diferença entre os valores é\",sin(x) -  taylor_seno(x,n))   #Calcular a diferença entre o seno da serie de taylor e da função sin\n",
    "termo_seguinte = taylor_seno(x,n+1) - taylor_seno(x,n)               #Calcular o valor do próximo termo \n",
    "print(\"O termo seguinte é: \",termo_seguinte)                         #Esse termo deve ter a mesma ordem do erro\n",
    "x_ = np.linspace(0, 3*np.pi/2, 51)       #x no intervalo de 0 a 3pi/2\n",
    "y = np.sin(x_)\n",
    "y1 = taylor_seno(x_,2)\n",
    "y2 = taylor_seno(x_,3)\n",
    "y3 = taylor_seno(x_,4)\n",
    "y4 = taylor_seno(x_,5)\n",
    "\n",
    "xgraus = x_ * 180 / np.pi               #Converter de radiano para graus\n",
    "plt.plot(xgraus,y, label='Sen(x)')      #Plotar o gráfico para diferentes n\n",
    "plt.plot(xgraus,y1, label='N = 2')\n",
    "plt.plot(xgraus,y2, label='N = 3')\n",
    "plt.plot(xgraus,y3, label='N = 4')\n",
    "plt.plot(xgraus,y4, label='N = 5')\n",
    "\n",
    "#Embelezar o gráfico\n",
    "plt.ylabel('Sen(x)')\n",
    "plt.xlabel('Ângulo (graus)')\n",
    "plt.title('Gráfico do seno')\n",
    "plt.grid(True)\n",
    "plt.ylim(-2,2)\n",
    "plt.legend()\n",
    "plt.show()\n",
    "\n",
    "'''\n",
    "Quanto maior o valor de termos maior a precisão do valor encontrado. \n",
    "Entretando não é necessário um número muito grande\n",
    "'''"
   ]
  },
  {
   "cell_type": "markdown",
   "metadata": {},
   "source": [
    "**HISTOGRAMA**\n",
    "\n",
    "O histograma (também conhecido como distribuição de frequências) é a representação gráfica em colunas ou em barras (retângulos) de um conjunto de dados previamente tabulado e dividido em classes. A base de cada retângulo representa uma classe, enquanto que a altura de cada um representa a quantidade ou a frequência absoluta com que o valor da classe ocorre no conjunto de dados, para classes uniformes, ou a densidade de frequência, para classes não uniformes.\n",
    "\n",
    "A biblioteca “matplotlib” do python permite montar facilmente um histograma, para imprimir na tela ou salvar como um arquivo de imagem. Ele é chamado pelo método “hist“, que recebe os dados como entrada e outros parâmetros. "
   ]
  },
  {
   "cell_type": "code",
   "execution_count": 43,
   "metadata": {
    "scrolled": true
   },
   "outputs": [
    {
     "ename": "OSError",
     "evalue": "gravidade.dat not found.",
     "output_type": "error",
     "traceback": [
      "\u001b[0;31m---------------------------------------------------------------------------\u001b[0m",
      "\u001b[0;31mOSError\u001b[0m                                   Traceback (most recent call last)",
      "\u001b[0;32m<ipython-input-43-b9d011560531>\u001b[0m in \u001b[0;36m<module>\u001b[0;34m\u001b[0m\n\u001b[1;32m      9\u001b[0m \u001b[0;32mimport\u001b[0m \u001b[0mnumpy\u001b[0m \u001b[0;32mas\u001b[0m \u001b[0mnp\u001b[0m\u001b[0;34m\u001b[0m\u001b[0;34m\u001b[0m\u001b[0m\n\u001b[1;32m     10\u001b[0m \u001b[0;32mfrom\u001b[0m \u001b[0mmath\u001b[0m \u001b[0;32mimport\u001b[0m \u001b[0;34m*\u001b[0m\u001b[0;34m\u001b[0m\u001b[0;34m\u001b[0m\u001b[0m\n\u001b[0;32m---> 11\u001b[0;31m \u001b[0mgrav\u001b[0m \u001b[0;34m=\u001b[0m \u001b[0mnp\u001b[0m\u001b[0;34m.\u001b[0m\u001b[0mloadtxt\u001b[0m\u001b[0;34m(\u001b[0m\u001b[0;34m\"gravidade.dat\"\u001b[0m\u001b[0;34m)\u001b[0m                      \u001b[0;31m#Ler o arquivo.dat\u001b[0m\u001b[0;34m\u001b[0m\u001b[0;34m\u001b[0m\u001b[0m\n\u001b[0m\u001b[1;32m     12\u001b[0m \u001b[0mplt\u001b[0m\u001b[0;34m.\u001b[0m\u001b[0mhist\u001b[0m\u001b[0;34m(\u001b[0m\u001b[0mgrav\u001b[0m\u001b[0;34m,\u001b[0m \u001b[0mbins\u001b[0m \u001b[0;34m=\u001b[0m \u001b[0;36m20\u001b[0m\u001b[0;34m,\u001b[0m \u001b[0mec\u001b[0m \u001b[0;34m=\u001b[0m \u001b[0;34m'k'\u001b[0m\u001b[0;34m,\u001b[0m \u001b[0mlabel\u001b[0m \u001b[0;34m=\u001b[0m \u001b[0;34m'20 bins'\u001b[0m\u001b[0;34m)\u001b[0m  \u001b[0;31m#Plotar gráfico para 20 bins e 60 bins\u001b[0m\u001b[0;34m\u001b[0m\u001b[0;34m\u001b[0m\u001b[0m\n\u001b[1;32m     13\u001b[0m \u001b[0mplt\u001b[0m\u001b[0;34m.\u001b[0m\u001b[0mhist\u001b[0m\u001b[0;34m(\u001b[0m\u001b[0mgrav\u001b[0m\u001b[0;34m,\u001b[0m \u001b[0mbins\u001b[0m \u001b[0;34m=\u001b[0m \u001b[0;36m60\u001b[0m\u001b[0;34m,\u001b[0m \u001b[0mec\u001b[0m \u001b[0;34m=\u001b[0m \u001b[0;34m'k'\u001b[0m\u001b[0;34m,\u001b[0m \u001b[0mlabel\u001b[0m \u001b[0;34m=\u001b[0m \u001b[0;34m'60 bins'\u001b[0m\u001b[0;34m)\u001b[0m\u001b[0;34m\u001b[0m\u001b[0;34m\u001b[0m\u001b[0m\n",
      "\u001b[0;32m~/miniconda3/envs/metcomp/lib/python3.8/site-packages/numpy/lib/npyio.py\u001b[0m in \u001b[0;36mloadtxt\u001b[0;34m(fname, dtype, comments, delimiter, converters, skiprows, usecols, unpack, ndmin, encoding, max_rows)\u001b[0m\n\u001b[1;32m    959\u001b[0m             \u001b[0mfname\u001b[0m \u001b[0;34m=\u001b[0m \u001b[0mos_fspath\u001b[0m\u001b[0;34m(\u001b[0m\u001b[0mfname\u001b[0m\u001b[0;34m)\u001b[0m\u001b[0;34m\u001b[0m\u001b[0;34m\u001b[0m\u001b[0m\n\u001b[1;32m    960\u001b[0m         \u001b[0;32mif\u001b[0m \u001b[0m_is_string_like\u001b[0m\u001b[0;34m(\u001b[0m\u001b[0mfname\u001b[0m\u001b[0;34m)\u001b[0m\u001b[0;34m:\u001b[0m\u001b[0;34m\u001b[0m\u001b[0;34m\u001b[0m\u001b[0m\n\u001b[0;32m--> 961\u001b[0;31m             \u001b[0mfh\u001b[0m \u001b[0;34m=\u001b[0m \u001b[0mnp\u001b[0m\u001b[0;34m.\u001b[0m\u001b[0mlib\u001b[0m\u001b[0;34m.\u001b[0m\u001b[0m_datasource\u001b[0m\u001b[0;34m.\u001b[0m\u001b[0mopen\u001b[0m\u001b[0;34m(\u001b[0m\u001b[0mfname\u001b[0m\u001b[0;34m,\u001b[0m \u001b[0;34m'rt'\u001b[0m\u001b[0;34m,\u001b[0m \u001b[0mencoding\u001b[0m\u001b[0;34m=\u001b[0m\u001b[0mencoding\u001b[0m\u001b[0;34m)\u001b[0m\u001b[0;34m\u001b[0m\u001b[0;34m\u001b[0m\u001b[0m\n\u001b[0m\u001b[1;32m    962\u001b[0m             \u001b[0mfencoding\u001b[0m \u001b[0;34m=\u001b[0m \u001b[0mgetattr\u001b[0m\u001b[0;34m(\u001b[0m\u001b[0mfh\u001b[0m\u001b[0;34m,\u001b[0m \u001b[0;34m'encoding'\u001b[0m\u001b[0;34m,\u001b[0m \u001b[0;34m'latin1'\u001b[0m\u001b[0;34m)\u001b[0m\u001b[0;34m\u001b[0m\u001b[0;34m\u001b[0m\u001b[0m\n\u001b[1;32m    963\u001b[0m             \u001b[0mfh\u001b[0m \u001b[0;34m=\u001b[0m \u001b[0miter\u001b[0m\u001b[0;34m(\u001b[0m\u001b[0mfh\u001b[0m\u001b[0;34m)\u001b[0m\u001b[0;34m\u001b[0m\u001b[0;34m\u001b[0m\u001b[0m\n",
      "\u001b[0;32m~/miniconda3/envs/metcomp/lib/python3.8/site-packages/numpy/lib/_datasource.py\u001b[0m in \u001b[0;36mopen\u001b[0;34m(path, mode, destpath, encoding, newline)\u001b[0m\n\u001b[1;32m    193\u001b[0m \u001b[0;34m\u001b[0m\u001b[0m\n\u001b[1;32m    194\u001b[0m     \u001b[0mds\u001b[0m \u001b[0;34m=\u001b[0m \u001b[0mDataSource\u001b[0m\u001b[0;34m(\u001b[0m\u001b[0mdestpath\u001b[0m\u001b[0;34m)\u001b[0m\u001b[0;34m\u001b[0m\u001b[0;34m\u001b[0m\u001b[0m\n\u001b[0;32m--> 195\u001b[0;31m     \u001b[0;32mreturn\u001b[0m \u001b[0mds\u001b[0m\u001b[0;34m.\u001b[0m\u001b[0mopen\u001b[0m\u001b[0;34m(\u001b[0m\u001b[0mpath\u001b[0m\u001b[0;34m,\u001b[0m \u001b[0mmode\u001b[0m\u001b[0;34m,\u001b[0m \u001b[0mencoding\u001b[0m\u001b[0;34m=\u001b[0m\u001b[0mencoding\u001b[0m\u001b[0;34m,\u001b[0m \u001b[0mnewline\u001b[0m\u001b[0;34m=\u001b[0m\u001b[0mnewline\u001b[0m\u001b[0;34m)\u001b[0m\u001b[0;34m\u001b[0m\u001b[0;34m\u001b[0m\u001b[0m\n\u001b[0m\u001b[1;32m    196\u001b[0m \u001b[0;34m\u001b[0m\u001b[0m\n\u001b[1;32m    197\u001b[0m \u001b[0;34m\u001b[0m\u001b[0m\n",
      "\u001b[0;32m~/miniconda3/envs/metcomp/lib/python3.8/site-packages/numpy/lib/_datasource.py\u001b[0m in \u001b[0;36mopen\u001b[0;34m(self, path, mode, encoding, newline)\u001b[0m\n\u001b[1;32m    533\u001b[0m                                       encoding=encoding, newline=newline)\n\u001b[1;32m    534\u001b[0m         \u001b[0;32melse\u001b[0m\u001b[0;34m:\u001b[0m\u001b[0;34m\u001b[0m\u001b[0;34m\u001b[0m\u001b[0m\n\u001b[0;32m--> 535\u001b[0;31m             \u001b[0;32mraise\u001b[0m \u001b[0mIOError\u001b[0m\u001b[0;34m(\u001b[0m\u001b[0;34m\"%s not found.\"\u001b[0m \u001b[0;34m%\u001b[0m \u001b[0mpath\u001b[0m\u001b[0;34m)\u001b[0m\u001b[0;34m\u001b[0m\u001b[0;34m\u001b[0m\u001b[0m\n\u001b[0m\u001b[1;32m    536\u001b[0m \u001b[0;34m\u001b[0m\u001b[0m\n\u001b[1;32m    537\u001b[0m \u001b[0;34m\u001b[0m\u001b[0m\n",
      "\u001b[0;31mOSError\u001b[0m: gravidade.dat not found."
     ]
    }
   ],
   "source": [
    "''' \n",
    "Exercício 3 da tarefa 5\n",
    "\n",
    "Esse programa calcula o desvio padrão e a média de medidas da gravidade\n",
    "Além disso plota um histograma com 20 bins e 60 bins\n",
    "'''\n",
    "\n",
    "import matplotlib.pyplot as plt                         \n",
    "import numpy as np\n",
    "from math import *\n",
    "grav = np.loadtxt(\"gravidade.dat\")                      #Ler o arquivo.dat\n",
    "plt.hist(grav, bins = 20, ec = 'k', label = '20 bins')  #Plotar gráfico para 20 bins e 60 bins\n",
    "plt.hist(grav, bins = 60, ec = 'k', label = '60 bins')\n",
    "\n",
    "#Embelezar o gráfico\n",
    "plt.xlabel('Gravidade (cm/s²)')                 \n",
    "plt.title('Histograma de medidas da gravidade')\n",
    "plt.legend()\n",
    "\n",
    "media = sum(grav)/len(grav)                      #Calcular média\n",
    "print(\"A média das notas é: %.2f\" %media)\n",
    "des_pad = 0                                      \n",
    "for x in grav:                                   #Esse lool calcula o valor do desvio padrão  \n",
    "    des_pad += (x - media)**2                   \n",
    "dp = sqrt((1/(len(grav) - 1))*des_pad)           \n",
    "print(\"O desvio padrão das notas é: %.2f\" %dp)\n",
    "\n",
    "#Usando funções .std() e .mean() para calcular a média e o desvio padrão\n",
    "desvio_padrao = grav.std()\n",
    "print(\"O desvio padrão das medidas usando .std é: %.2f\" %desvio_padrao)\n",
    "media = grav.mean()\n",
    "print(\"A média das medidas usando .mean é: %.2f\" %media)"
   ]
  },
  {
   "cell_type": "markdown",
   "metadata": {},
   "source": [
    "- Matrizes\n",
    "\n",
    "É um conjunto de números organizado em forma de tabela, com algumas propriedades matemáticas.\n",
    "Em Python, uma matriz é representada por um array de 2 dimensões."
   ]
  },
  {
   "cell_type": "code",
   "execution_count": 44,
   "metadata": {},
   "outputs": [
    {
     "name": "stdout",
     "output_type": "stream",
     "text": [
      "[[0. 0.]\n",
      " [0. 0.]\n",
      " [0. 0.]]\n"
     ]
    }
   ],
   "source": [
    "#Criando todos os elementos com zeros\n",
    "a = np.zeros([3,2])\n",
    "print(a)"
   ]
  },
  {
   "cell_type": "code",
   "execution_count": 46,
   "metadata": {},
   "outputs": [
    {
     "name": "stdout",
     "output_type": "stream",
     "text": [
      "[[0. 0.]\n",
      " [0. 0.]\n",
      " [0. 0.]]\n"
     ]
    }
   ],
   "source": [
    "#Criando uma matriz vazia\n",
    "b = np.empty([3,2])    #Retorna uma nova matriz de forma e tipo fornecidos, sem inicializar entradas.\n",
    "print(b)"
   ]
  },
  {
   "cell_type": "code",
   "execution_count": 47,
   "metadata": {},
   "outputs": [
    {
     "name": "stdout",
     "output_type": "stream",
     "text": [
      "[[ 1  2]\n",
      " [ 3  4]\n",
      " [10 11]]\n"
     ]
    }
   ],
   "source": [
    "#Usando uma lista de listas(Tem que ter mesmo número de colunas para cada linha)\n",
    "r = np.array([[1,2],[3,4],[10,11]], int)\n",
    "print(r)"
   ]
  },
  {
   "cell_type": "code",
   "execution_count": 48,
   "metadata": {},
   "outputs": [
    {
     "name": "stdout",
     "output_type": "stream",
     "text": [
      "2\n"
     ]
    }
   ],
   "source": [
    "#Para acessar um elemento da matriz\n",
    "print(r[0,1])  #índice começa no 0"
   ]
  },
  {
   "cell_type": "markdown",
   "metadata": {},
   "source": [
    "Existem outras maneiras de manipular matrizes"
   ]
  },
  {
   "cell_type": "markdown",
   "metadata": {},
   "source": [
    "- Ajuste de funções\n",
    "\n",
    "A função np.polyfit(x, y, ngraus) ajusta um polinômio de grau ngrau ao gráfico de pontos y x x e retorna uma lista com os coeficientes do ajuste."
   ]
  },
  {
   "cell_type": "markdown",
   "metadata": {},
   "source": [
    "# Aula 6: Raízes de equações: Método de bisseção e de Newton-Raphson"
   ]
  },
  {
   "cell_type": "markdown",
   "metadata": {},
   "source": [
    "**MÉTODO DA BISSEÇÃO**\n",
    "\n",
    "https://www.ufrgs.br/reamat/CalculoNumerico/livro-py/sdeduv-metodo_da_bissecao.html\n",
    "\n",
    "O método da bisseção ou método da bissecção é um método de busca de raízes que bissecta repetidamente um intervalo e então seleciona um subintervalo contendo a raiz para processamento adicional. Trata-se de um método simples e robusto, relativamente lento quando comparado a métodos como o método de Newton ou o método das secantes. Por este motivo, ele é usado frequentemente para obter uma primeira aproximação de uma solução, a qual é então utilizada como ponto inicial para métodos que convergem mais rapidamente. O método também é chamado de método da pesquisa binária, ou método da dicotomia.\n",
    "\n",
    "Algoritmo:\n",
    "\n",
    "- Definir a função a qual se deseja achar a raiz\n",
    "- Definir xmin e xmax (visualmente no matplotlib)\n",
    "- Definir o número máximo de iterações (limite = 100)\n",
    "- Definir a precisão desejada (precisão = 1.e-7)\n",
    "- Se fmin x fmax > 0: intervalo inadequado (Parar aqui)\n",
    "- Zerar o contador de iterações (Nit)\n",
    "- repetir enquanto |xmax - xmin| > precisão e Nit < limite:\n",
    "      \n",
    "      Calcular o valor médio: xmedio = (xmin+xmax)/2\n",
    "      Calcular fmedio\n",
    "      se fmin x fmedio < 0\n",
    "      senão\n",
    "      contar o número de iterações: Nit = Nit+1\n",
    "\n",
    "- Escrever número de iterações e raiz = xmedio"
   ]
  },
  {
   "cell_type": "code",
   "execution_count": 52,
   "metadata": {},
   "outputs": [
    {
     "data": {
      "image/png": "[encoded data removed]",
      "text/plain": [
       "<Figure size 432x288 with 1 Axes>"
      ]
     },
     "metadata": {
      "needs_background": "light"
     },
     "output_type": "display_data"
    },
    {
     "name": "stdout",
     "output_type": "stream",
     "text": [
      "O número de interaçẽos é 22 e a raiz vale 0.443574\n"
     ]
    }
   ],
   "source": [
    "'''\n",
    "Exercício 4(a) da tarefa 6\n",
    "\n",
    "Esse programa calcula o valor da primeira raiz positiva da função f(x) = e^−x − sin((pi*x)/2)\n",
    "Quando x está no intervalo de 0 e 4\n",
    "'''\n",
    "import matplotlib.pyplot as plt\n",
    "import numpy as np\n",
    "import sys\n",
    "\n",
    "#Função definida na tarefa anterior\n",
    "def funcao1(x):\n",
    "    '''\n",
    "    Essa função calcula a função  f(x) = e^−x − sin((pi*x)/2)\n",
    "    return: f(x)\n",
    "    '''\n",
    "    y = np.exp(-x) - np.sin(np.pi*x/2)\n",
    "    return y\n",
    "\n",
    "x_ = np.linspace(0, 4)    # O eixo x no intervalo de x ∈ [0, 4]\n",
    "y = funcao1(x_)            # y assumindo o valor da funcao em relação a x_\n",
    "plt.ylabel('f(x)')\n",
    "plt.title('Gráfico da função f(x) = e^−x − sin((pi*x)/2)')\n",
    "plt.grid(True)\n",
    "plt.plot(x_,y)\n",
    "plt.show()\n",
    "\n",
    "xmin = 0.25    #Intervalo escolhido através do gráfico\n",
    "xmax = 0.5\n",
    "\n",
    "interacoes = 100 \n",
    "precisao = 1.e-7\n",
    "\n",
    "fmin = funcao1(xmin)\n",
    "fmax = funcao1(xmax)\n",
    "\n",
    "nit = 0\n",
    "\n",
    "if fmin*fmax > 0:                   #Parar o programa caso fmin*fmax >0\n",
    "    print(\"Intervalo inadequado\")\n",
    "    sys.exit()\n",
    "else:\n",
    "    while abs(xmax - xmin) > precisao and nit < interacoes:      #Condições para o while funcionar\n",
    "        media = (xmin + xmax)/2\n",
    "        fmedio = funcao1(media)\n",
    "        if fmin*fmedio < 0:                                        \n",
    "            xmax = media\n",
    "        else:\n",
    "            xmin = media\n",
    "        nit += 1\n",
    "print (\"O número de interaçẽos é %d e a raiz vale %f\" %(nit,media))"
   ]
  },
  {
   "cell_type": "markdown",
   "metadata": {},
   "source": [
    "**MÉTODO DE NEWTON-RAPHSON**\n",
    "\n",
    "https://www.ufrgs.br/reamat/CalculoNumerico/livro-oct/sdeduv-metodo_de_newton-raphson.html\n",
    "\n",
    "Em análise numérica, o método de Newton (ou Método de Newton–Raphson), desenvolvido por Isaac Newton e Joseph Raphson, tem o objetivo de estimar as raízes de uma função. Para isso, escolhe-se uma aproximação inicial para esta. Após isso, calcula-se a equação da reta tangente (por meio da derivada) da função nesse ponto e a interseção dela com o eixo das abcissas, a fim de encontrar uma melhor aproximação para a raiz. Repetindo-se o processo, cria-se um método iterativo para encontrarmos a raiz da função.\n",
    "\n",
    "Algoritmo:\n",
    "\n",
    "- Definir a função a qual se deseja achar a raiz\n",
    "- Definir a função derivada\n",
    "- Definir xi (visualmente no matplotlib)\n",
    "- Definir o número máximo de iterações (limite = 100)\n",
    "- Definir a precisão desejada (precisão = 1.e-7)\n",
    "- Zerar o contador de iterações (Nit)\n",
    "- Definir delta (x - xi) = número grande\n",
    "- Repetir enquanto |delta| > precisao e Nit < limite:\n",
    "\n",
    "       Calcular o próximo x: x = xi - f(xi)/f'(xi)\n",
    "       Calcular delta = x -xi\n",
    "       Redefinir xi: xi = x\n",
    "       Contar o número de iterações Nit = Nit+1\n",
    "       \n",
    "- Escrever número de iterações e raiz = xmedio\n"
   ]
  },
  {
   "cell_type": "code",
   "execution_count": 55,
   "metadata": {},
   "outputs": [
    {
     "data": {
      "image/png": "[encoded data removed]",
      "text/plain": [
       "<Figure size 432x288 with 1 Axes>"
      ]
     },
     "metadata": {
      "needs_background": "light"
     },
     "output_type": "display_data"
    },
    {
     "name": "stdout",
     "output_type": "stream",
     "text": [
      "O número de interações é 4 e a raiz é 0.443574\n"
     ]
    }
   ],
   "source": [
    "'''\n",
    "Exercício 6(a) da tarefa 6\n",
    "'''\n",
    "import matplotlib.pyplot as plt\n",
    "import numpy as np\n",
    "\n",
    "def funcao1(x):\n",
    "    '''\n",
    "    Essa função calcula a função  f(x) = e^−x − sin((pi*x)/2)\n",
    "    return: f(x)\n",
    "    '''\n",
    "    y = np.exp(-x) - np.sin(np.pi*x/2)\n",
    "    return y\n",
    "\n",
    "x_ = np.linspace(0, 4)    # O eixo x no intervalo de x ∈ [0, 4]\n",
    "y = funcao1(x_)            # y assumindo o valor da funcao em relação a x_\n",
    "plt.ylabel('f(x)')\n",
    "plt.title('Gráfico da função f(x) = e^−x − sin((pi*x)/2)')\n",
    "plt.grid(True)\n",
    "plt.plot(x_,y)\n",
    "plt.show()\n",
    "\n",
    "def derivada(x):\n",
    "    '''\n",
    "    Função que determina a derivada da funcao1\n",
    "    return: derivada\n",
    "    '''\n",
    "    derivada_ = -np.exp(-x) - (np.cos((x*np.pi)/2)*(np.pi/2))\n",
    "    return derivada_\n",
    "\n",
    "xo_ = 0.4                          #Definir xi\n",
    "delta = 1.e7\n",
    "interacao = 100\n",
    "precisao = 1.e-7\n",
    "\n",
    "nit = 0\n",
    "\n",
    "while abs(delta) > precisao and nit < interacao:      #Enquanto essas condições forem obedecidas\n",
    "    x = xo_ - (funcao1(xo_)/derivada(xo_))\n",
    "    delta = x - xo_\n",
    "    xo_ = x\n",
    "\n",
    "    nit += 1\n",
    "\n",
    "print(\"O número de interações é %d e a raiz é %f\" %(nit, xo_))"
   ]
  },
  {
   "cell_type": "markdown",
   "metadata": {},
   "source": [
    "# Aula 7: Integração numérica: Método dos Trapézios e Método de Simpson"
   ]
  },
  {
   "cell_type": "markdown",
   "metadata": {},
   "source": [
    "**LINK BOM:** https://www.ufrgs.br/reamat/CalculoNumerico/livro-py/in-regras_compostas.html\n",
    "\n",
    "**MÉTODO DOS TRAPÉZIOS**\n",
    "\n",
    "Algoritmos:\n",
    "\n",
    "- Definir a função que será integrada\n",
    "- Definir a função trapézio com os argumentos (função que sera integrada, os limites de integração e k que é o número de divisões)\n",
    "\n",
    "        Calcular delta = (b - a)/2**k\n",
    "        Fazer o somatório fj(cada trapézio) de j=1 até 2^k-1\n",
    "        Calcular  a função tk = delta/2( f(a) + 2*fj + f(b))\n",
    "        Retornar tk\n",
    "- Fornecer os valores de limites de integração e a precisão desejada\n",
    "\n",
    "**Como saber o valor de k desejado?**\n",
    "    Usando o método da convergência.\n",
    "    \n",
    "Algoritmo:\n",
    "\n",
    "'''\n",
    "Os valores de k podem variar, sendo 20 um número já grande (professora disse em aula)\n",
    "'''\n",
    "- Criar um array com numéros de 0 até 20 com o intervalo de 1\n",
    "- Criar um contador igual a 0\n",
    "- Para contador em k (k vai assumindo cada elemento da lista):\n",
    "        \n",
    "        Se o módulo da função trapézio utilizando k menos função trapézio utilizando k-1 for menor que a precisão:\n",
    "            Pare o programa. (O valor de k ideal é o valor atual da variável contadora)\n",
    "  "
   ]
  },
  {
   "cell_type": "code",
   "execution_count": 57,
   "metadata": {},
   "outputs": [
    {
     "name": "stdout",
     "output_type": "stream",
     "text": [
      "O valor da integral da função Gaussiana pelo método dos trapézios no intervalo de a até b é 0.954 usando k igual a 10\n"
     ]
    }
   ],
   "source": [
    "#Exemplo\n",
    "import numpy as np\n",
    "def f(y):\n",
    "    '''\n",
    "    Definir a função gaussiana\n",
    "    retunrn: A função Gaussiana\n",
    "    '''\n",
    "    fy = np.exp(-y**2 / 2)\n",
    "    return fy\n",
    "\n",
    "def trapezio(f,a,b,k):\n",
    "    '''\n",
    "    Implementar o método do trapézio\n",
    "    return: a função tk para calcular a integral\n",
    "    '''\n",
    "    deltak = (b - a)/2**k\n",
    "    j = 1\n",
    "    soma = 0\n",
    "    while j <= (2**k-1):\n",
    "        y = a + j*deltak\n",
    "        fj = f(y)\n",
    "        soma += fj\n",
    "        j += 1\n",
    "    tk = deltak/2 *(f(a) + 2*soma +f(b))\n",
    "    return tk\n",
    "\n",
    "a = -2                         #Limites de integração\n",
    "b = 2\n",
    "k = np.array(range(0,21,1))    #Valores em k pode variar (levando em consederação que na aula foi dito que 20 já poderia ser um valor alto)\n",
    "precisao = 10**-6\n",
    "\n",
    "cont = 0                       #Método de convergência para o método dos trapézios\n",
    "for cont in k:\n",
    "    if abs(trapezio(f, a, b, k[cont+1]) - trapezio(f, a, b, k[cont])) < precisao:\n",
    "        break\n",
    "        \n",
    "trap = 1/np.sqrt(2*np.pi) * trapezio(f, a, b, cont)\n",
    "print(\"O valor da integral da função Gaussiana pelo método dos trapézios no intervalo de a até b é %.3f usando k igual a %d\" %(trap, cont))"
   ]
  },
  {
   "cell_type": "markdown",
   "metadata": {},
   "source": [
    "**MÉTODO DE SIMPSON**\n",
    "\n",
    "O método de simpson pode se aproveitar o método de trapézios\n",
    "\n",
    "Algoritmo:\n",
    "\n",
    "- Definir a função que será integrada\n",
    "- Definir a função trapézio com os argumentos necessários(trapézio utilizando k, trapézio utilizando k-1)\n",
    "\n",
    "        Definir sk = trapézio utilizando k + (trapézio utilizando k - trapézio utilizando k-1) / 3\n",
    "        retornar sk\n",
    "        \n",
    "- Definir limites de integração e precisão\n",
    "\n",
    "\n",
    "**Como saber o valor de k desejado?**\n",
    "    Usando o método da convergência.\n",
    "    \n",
    "\n"
   ]
  },
  {
   "cell_type": "code",
   "execution_count": 63,
   "metadata": {},
   "outputs": [
    {
     "name": "stdout",
     "output_type": "stream",
     "text": [
      "O valor da integral da função Gaussiana pelo método de Simpson no intervalo de a até b é 0.954 usando k igual a 5 \n"
     ]
    }
   ],
   "source": [
    "#Exemplo\n",
    "import numpy as np\n",
    "def f(y):\n",
    "    '''\n",
    "    Definir a função gaussiana\n",
    "    retunrn: A função Gaussiana\n",
    "    '''\n",
    "    fy = np.exp(-y**2 / 2)\n",
    "    return fy\n",
    "\n",
    "def simpson(tk_, tk_1):\n",
    "    '''\n",
    "    Implementar o método de Simpson\n",
    "    return: a função sk para calcular a integral\n",
    "    '''\n",
    "    sk = tk_ + (tk_ - tk_1)/3\n",
    "    return sk\n",
    "\n",
    "a = -2                         #Limites de integração\n",
    "b = 2\n",
    "k = np.array(range(0,21,1))\n",
    "precisao = 10**-6\n",
    "\n",
    "cont1 = 0                       #Método de convergência para o método de Simpson\n",
    "for cont1 in k:\n",
    "    if cont1==0:\n",
    "        tk_1 = trapezio(f, a, b, k[cont1])\n",
    "        tk_ = trapezio(f, a, b, k[cont1+1])\n",
    "        sk_ = simpson(tk_, tk_1)\n",
    "    else: \n",
    "        tk_1 = trapezio(f, a, b, k[cont1])\n",
    "        tk_ = trapezio(f, a, b, k[cont1+1])\n",
    "        sk_1 = simpson(tk_, tk_1)\n",
    "        if abs(sk_1 - sk_) < precisao:\n",
    "            break\n",
    "        sk_ = sk_1 \n",
    "simp = 1/np.sqrt(2*np.pi) * simpson(tk_, tk_1)\n",
    "print(\"O valor da integral da função Gaussiana pelo método de Simpson no intervalo de a até b é %.3f usando k igual a %d \"%(simp, cont1))"
   ]
  },
  {
   "cell_type": "markdown",
   "metadata": {},
   "source": [
    "Uma forma de fazer sem a dependência do método de trapezios é: \n",
    "(Lembrando que não foi usado o método da convergência)"
   ]
  },
  {
   "cell_type": "code",
   "execution_count": 66,
   "metadata": {},
   "outputs": [
    {
     "name": "stdout",
     "output_type": "stream",
     "text": [
      "O valor da integral da função Gaussiana pelo método de Simpson no intervalo de a até b é 0.953 usando k igual a 5 \n"
     ]
    }
   ],
   "source": [
    "#Exemplo\n",
    "import numpy as np\n",
    "def f(y):\n",
    "    '''\n",
    "    Definir a função gaussiana\n",
    "    retunrn: A função Gaussiana\n",
    "    '''\n",
    "    fy = np.exp(-y**2 / 2)\n",
    "    return fy\n",
    "\n",
    "def simpson(f,a,b,k):\n",
    "    '''\n",
    "    Implementar o método do trapézio\n",
    "    return: a função tk para calcular a integral\n",
    "    '''\n",
    "    deltak = (b - a)/2**k\n",
    "    i_impar = 1\n",
    "    i_par = 2\n",
    "    soma_impar = 0\n",
    "    soma_par = 0\n",
    "    while i_impar <= (2**k-1):\n",
    "        y = a + i_impar*deltak\n",
    "        fj = f(y)\n",
    "        soma_impar += fj\n",
    "        i_impar += 1\n",
    "    while i_par <= (2**k-1):\n",
    "        y = a + i_par*deltak\n",
    "        fj = f(y)\n",
    "        soma_par += fj\n",
    "        i_par += 1\n",
    "    sk = deltak/3 *(f(a) + 4*soma_impar + 2*soma_par +f(b))\n",
    "    return sk\n",
    "\n",
    "a = 0\n",
    "b = 2\n",
    "k = 10\n",
    "\n",
    "g = simpson(f, a, b, k)\n",
    "\n",
    "simp = 1/np.sqrt(2*np.pi) * simpson(f, a, b, k)\n",
    "print(\"O valor da integral da função Gaussiana pelo método de Simpson no intervalo de a até b é %.3f usando k igual a %d \"%(simp, cont1))"
   ]
  },
  {
   "cell_type": "markdown",
   "metadata": {},
   "source": [
    "# Aula 8: Input, Error handling, eval, Input de arquivo, Output, std I/O, Função Lambda, inline if, assert"
   ]
  },
  {
   "cell_type": "code",
   "execution_count": null,
   "metadata": {},
   "outputs": [],
   "source": []
  },
  {
   "cell_type": "markdown",
   "metadata": {},
   "source": [
    "# Aula 10: Equações diferenciais ordinárias: Método de Euler"
   ]
  },
  {
   "cell_type": "markdown",
   "metadata": {},
   "source": [
    "**MÉTODO DE EULER**\n",
    "\n",
    "https://www.ufrgs.br/reamat/CalculoNumerico/livro-py/pdvi-metodo_de_euler.html\n",
    "\n"
   ]
  },
  {
   "cell_type": "code",
   "execution_count": 67,
   "metadata": {},
   "outputs": [
    {
     "data": {
      "image/png": "[encoded data removed]",
      "text/plain": [
       "<Figure size 432x288 with 1 Axes>"
      ]
     },
     "metadata": {
      "needs_background": "light"
     },
     "output_type": "display_data"
    }
   ],
   "source": [
    "'''\n",
    "Esse problema calcula a EDO f'(x) = x²+1\n",
    "'''\n",
    "import numpy as np\n",
    "import matplotlib.pyplot as plt\n",
    "\n",
    "def derivada(x,t):\n",
    "    '''\n",
    "    Definir a função derivada\n",
    "    return: derivada\n",
    "    '''\n",
    "    deriv = x**2+1\n",
    "    return deriv\n",
    "\n",
    "def euler(deriv, xo, to,tf,n):\n",
    "    '''\n",
    "    Definir o método de Euler\n",
    "    Essa função tem como argumentos a EDO, o x inicial, tempo inicial, tempo final e o número de partições\n",
    "    '''\n",
    "    t = np.zeros(n)\n",
    "    x = np.zeros(n)\n",
    "    x[0] = xo\n",
    "    t[0] = to\n",
    "    h = (tf-to)/n\n",
    "    for i in range(n-1):\n",
    "        t[i+1] = t[i] + h\n",
    "        x[i+1] = x[i] + h*derivada(x[i], t[i])\n",
    "    return x, t\n",
    "\n",
    "to = 0    #Definir as condições exigidas\n",
    "tf = 1\n",
    "xo = 0\n",
    "n = 5     #Quanto mais n mais pontos serão acrescentados no gráfico\n",
    "\n",
    "x, t = euler(derivada, xo, to, tf, n) \n",
    "\n",
    "#Plotar o gráfico comparando com a solução (solução esperada tan(t)) com a solução esperada\n",
    "plt.plot(t, x, 'b.', label = 'numérico')\n",
    "plt.plot(t, np.tan(t), 'r.', label = 'exato')\n",
    "plt.xlabel('t')\n",
    "plt.ylabel('x')\n",
    "plt.legend()\n",
    "plt.show()"
   ]
  },
  {
   "cell_type": "markdown",
   "metadata": {},
   "source": [
    "# Aula 11: Sistemas de EDO, EDO de Segunda Ordem, Método de Runge-Kutta"
   ]
  },
  {
   "cell_type": "markdown",
   "metadata": {},
   "source": [
    "**MÉTODO DE EULER PARA SISTEMAS DE EDO**\n",
    "\n"
   ]
  },
  {
   "cell_type": "code",
   "execution_count": 71,
   "metadata": {},
   "outputs": [
    {
     "data": {
      "image/png": "[encoded data removed]",
      "text/plain": [
       "<Figure size 432x288 with 1 Axes>"
      ]
     },
     "metadata": {
      "needs_background": "light"
     },
     "output_type": "display_data"
    }
   ],
   "source": [
    "'''\n",
    "Programa que usa o Metodo de Euler para calcular a trajetória da Terra\n",
    "'''\n",
    "import numpy as np\n",
    "import matplotlib.pyplot as plt\n",
    "\n",
    "def derivada(x,t):\n",
    "    '''\n",
    "    Definir a função derivada\n",
    "    return: derivada\n",
    "    '''\n",
    "    di = -g*Massa_sol*(x[0]/(np.sqrt(x[0]**2+x[1]**2)**3))\n",
    "    dii = -g*Massa_sol*(x[1]/(np.sqrt(x[0]**2 + x[1]**2)**3))\n",
    "    return np.array([x[2], x[3], di, dii])\n",
    "\n",
    "def euler(to, tf, xo, derivada,n):\n",
    "    '''\n",
    "    Definir o método de Euler\n",
    "    Essa função tem como argumentos a EDO, o t inicial, x inicial, derivada e n\n",
    "    '''\n",
    "    t = np.zeros(n)\n",
    "    if isinstance(xo, (float, int)):\n",
    "        x = np.zeros(n, len(xo))\n",
    "    else:\n",
    "        x = np.zeros((n, len(xo)))\n",
    "    x[0] = xo\n",
    "    t[0] = to\n",
    "    h = (tf-to)/n\n",
    "    for i in range(n-1):\n",
    "        t[i+1] = t[i] + h\n",
    "        x[i+1] = x[i] + h*derivada(x[i], t[i])\n",
    "    return t, x\n",
    "\n",
    "to = 0    #Definir as condições exigidas\n",
    "tf = 31536000\n",
    "xo = np.array([1496*10**8, 0, 0, 297*10**2])\n",
    "n = 365 #para precisão de dia\n",
    "#n = 525600 para precisão de minuto\n",
    "#n = 8760 para precisão de hora\n",
    "'''\n",
    "4, letra d.\n",
    "A precisão de minuto mostra uma trajetória melhor que a trajetória com precisão de dia\n",
    "'''\n",
    "Massa_sol = 198*10**28\n",
    "g = 667*10**-13\n",
    "\n",
    "x, t = euler(to, tf, xo, derivada, n)\n",
    "\n",
    "#Plotar o gráfico que mostra a trajetória ao redor da terra\n",
    "plt.plot(t[:,0], t[:,1], label = 't')\n",
    "plt.title(\"Trajetória da Terra com precisão de dia\")\n",
    "plt.xlabel('t')\n",
    "plt.ylabel('t')\n",
    "plt.legend()\n",
    "plt.show()"
   ]
  },
  {
   "cell_type": "markdown",
   "metadata": {},
   "source": [
    "**MÉTODO DE RUNGE-KUTTA**\n",
    "\n",
    "https://www.ufrgs.br/reamat/CalculoNumerico/livro-sci/pdvi-metodos_de_runge-kutta_explicitos.html,"
   ]
  },
  {
   "cell_type": "code",
   "execution_count": 72,
   "metadata": {},
   "outputs": [
    {
     "data": {
      "image/png": "[encoded data removed]",
      "text/plain": [
       "<Figure size 432x288 with 1 Axes>"
      ]
     },
     "metadata": {
      "needs_background": "light"
     },
     "output_type": "display_data"
    }
   ],
   "source": [
    "'''\n",
    "Programa que usa o Metodo de Runge-Kutta para calcular a trajetória da Terra\n",
    "'''\n",
    "import numpy as np\n",
    "def  RungeKutta4(f, xi, ti, tf, n):\n",
    "    t = np.zeros(n)\n",
    "    if isinstance(xi, (float, int)):  #True if xi is a list of floats or ints\n",
    "        x = np.zeros(n)  # x[k] is the solution at time t[k]\n",
    "    else:\n",
    "        neq = len(xi)\n",
    "        x = np.zeros((n, neq))\n",
    "\n",
    "    x[0] = xi\n",
    "    #print (x[0])\n",
    "    #print (x)\n",
    "    t[0] =ti \n",
    "    dt = (tf-ti)/float(n)\n",
    "    dt2 = dt/2.0\n",
    "    for k in range(n-1):\n",
    "        #print (x[k,0], x[k,1], t[k])\n",
    "\n",
    "        K1 = dt*f(x[k], t[k])\n",
    "        K2 = dt*f(x[k] + 0.5*K1, t[k] + dt2)\n",
    "        K3 = dt*f(x[k] + 0.5*K2, t[k] + dt2)\n",
    "        K4 = dt*f(x[k] + K3, t[k] + dt)\n",
    "        x[k+1] = x[k] + (1/6.0)*(K1 + 2*K2 + 2*K3 + K4) \n",
    "        t[k+1] = t[k] + dt\n",
    "    return x, t\n",
    "\n",
    "n1 = 365 #precisão de dia\n",
    "x_runge, t_runge = RungeKutta4(derivada, xo, to, tf, n1)\n",
    "\n",
    "plt.plot(x_runge[:,0], x_runge[:,1], label = 't')\n",
    "plt.title(\"Movimento da Terra ao redor do Sol com precisão de dia\")\n",
    "plt.legend()\n",
    "plt.show()"
   ]
  }
 ],
 "metadata": {
  "kernelspec": {
   "display_name": "Python 3",
   "language": "python",
   "name": "python3"
  },
  "language_info": {
   "codemirror_mode": {
    "name": "ipython",
    "version": 3
   },
   "file_extension": ".py",
   "mimetype": "text/x-python",
   "name": "python",
   "nbconvert_exporter": "python",
   "pygments_lexer": "ipython3",
   "version": "3.8.5"
  }
 },
 "nbformat": 4,
 "nbformat_minor": 4
}
